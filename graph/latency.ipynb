{
 "cells": [
  {
   "cell_type": "code",
   "execution_count": 22,
   "metadata": {},
   "outputs": [
    {
     "name": "stdout",
     "output_type": "stream",
     "text": [
      "Missing required file(s):\n",
      "  - ../data/monitoring_latency/strict-False/pin-netdata-core0/20251029-143342/001mcd/netdata-usermetrics-1mcd.csv\n",
      "  - ../data/monitoring_latency/strict-False/pin-netdata-core0/20251029-143342/001mcd/netdata-kernelmetrics-1mcd.csv\n"
     ]
    },
    {
     "ename": "SystemExit",
     "evalue": "1",
     "output_type": "error",
     "traceback": [
      "An exception has occurred, use %tb to see the full traceback.\n",
      "\u001b[0;31mSystemExit\u001b[0m\u001b[0;31m:\u001b[0m 1\n"
     ]
    }
   ],
   "source": [
    "import importlib\n",
    "import latency\n",
    "importlib.reload(latency)\n",
    "\n",
    "from latency import run_plot\n",
    "dir_ = \"../data/monitoring_latency/strict-False/pin-netdata-core0/20251029-143342/001mcd\"\n",
    "\n",
    "run_plot(dir=dir_, mcd=1, xmax=10)"
   ]
  },
  {
   "cell_type": "code",
   "execution_count": 23,
   "metadata": {},
   "outputs": [
    {
     "name": "stdout",
     "output_type": "stream",
     "text": [
      "CWD: /home/maruyama/workspace/exp-X-Monitor/graph\n",
      "DIR EXISTS? -> False\n",
      "FILES IN DIR:\n"
     ]
    }
   ],
   "source": [
    "import os, glob\n",
    "\n",
    "dir_ = \"../data/monitoring_latency/strict-False/pin-netdata-core0/20251029-143342/001mcd\"\n",
    "print(\"CWD:\", os.getcwd())\n",
    "print(\"DIR EXISTS? ->\", os.path.isdir(dir_))\n",
    "print(\"FILES IN DIR:\")\n",
    "for p in sorted(glob.glob(os.path.join(dir_, \"*\"))):\n",
    "    print(\" -\", os.path.basename(p))"
   ]
  }
 ],
 "metadata": {
  "kernelspec": {
   "display_name": "Python 3",
   "language": "python",
   "name": "python3"
  },
  "language_info": {
   "codemirror_mode": {
    "name": "ipython",
    "version": 3
   },
   "file_extension": ".py",
   "mimetype": "text/x-python",
   "name": "python",
   "nbconvert_exporter": "python",
   "pygments_lexer": "ipython3",
   "version": "3.10.12"
  },
  "orig_nbformat": 4
 },
 "nbformat": 4,
 "nbformat_minor": 2
}
